{
  "cells": [
    {
      "cell_type": "markdown",
      "source": [
        "## Imports\n"
      ],
      "metadata": {
        "id": "CxcnVzgY_jKG"
      }
    },
    {
      "cell_type": "code",
      "execution_count": null,
      "metadata": {
        "id": "ICbwGmT8EDHB"
      },
      "outputs": [],
      "source": [
        "import torch\n",
        "import torchvision\n",
        "\n",
        "from matplotlib.pyplot import imshow\n",
        "\n",
        "from torch.utils.data import DataLoader\n",
        "from torchvision.datasets import CIFAR10\n",
        "from torchvision.transforms import ToTensor, Compose, RandomRotation, RandomHorizontalFlip, RandomCrop, Normalize\n",
        "from torchvision.transforms.functional import pil_to_tensor\n",
        "from torch.nn.modules.batchnorm import BatchNorm2d\n",
        "import torch.nn as nn\n",
        "import torch.nn.functional as F"
      ]
    },
    {
      "cell_type": "markdown",
      "source": [
        "## Load in CIFAR-10 - and prepare DataLoader\n",
        "### Transformation: RandomRotation (10 degrees)  \n",
        "### Transformation: RandomCrop (original size, but padded with 4 pixels on all sides  \n",
        "### Transformation: Horizontally Flipped\n",
        "#### All are normalized\n",
        "All loaded into a concatenated dataset and then shuffled using a DataLoader."
      ],
      "metadata": {
        "id": "UlhiYYZS_R85"
      }
    },
    {
      "cell_type": "code",
      "execution_count": null,
      "metadata": {
        "colab": {
          "base_uri": "https://localhost:8080/",
          "height": 103,
          "referenced_widgets": [
            "493a77e2769c4073bedd00192fc35d3d",
            "5107006b45c94ad5ae548310be7f2848",
            "517493bf5898418aaf7b056027fa519b",
            "0380bab6ba734085a9eeefb4fbcc1189",
            "7013c90433ec4e3c9c02158e4f6b1880",
            "14ec6a13de034ad3b513918e5168f005",
            "a6acdf5318b94d0ebd00c67cb3024ac5",
            "545f24c0ad184953a2cbc43e296d6f94",
            "c7417dbfad6e456581c51684da171e1c",
            "e941f6bd2db444408fee1ca3ed063f21",
            "1341a6103e9c426c9f413d0c6dde4cf1"
          ]
        },
        "id": "z_YwodLxEBeI",
        "outputId": "8fffbe3c-badb-4d60-ab95-a65e865a4275"
      },
      "outputs": [
        {
          "output_type": "stream",
          "name": "stdout",
          "text": [
            "Downloading https://www.cs.toronto.edu/~kriz/cifar-10-python.tar.gz to /cifardata/cifar-10-python.tar.gz\n"
          ]
        },
        {
          "output_type": "display_data",
          "data": {
            "text/plain": [
              "  0%|          | 0/170498071 [00:00<?, ?it/s]"
            ],
            "application/vnd.jupyter.widget-view+json": {
              "version_major": 2,
              "version_minor": 0,
              "model_id": "493a77e2769c4073bedd00192fc35d3d"
            }
          },
          "metadata": {}
        },
        {
          "output_type": "stream",
          "name": "stdout",
          "text": [
            "Extracting /cifardata/cifar-10-python.tar.gz to /cifardata\n",
            "Files already downloaded and verified\n"
          ]
        }
      ],
      "source": [
        "# Download CIFAR-10 IF NOT ALREADY EXISTS\n",
        "train = CIFAR10(\"/cifardata\", download=True, transform=Compose([ToTensor(), Normalize(mean=[0.4914, 0.4822, 0.4465], std=[0.2470, 0.2435, 0.2616])]), train=True) # We transform the data to tensors\n",
        "train_hflip = CIFAR10(\"/cifardata\", transform=Compose([ToTensor(), RandomHorizontalFlip(1.0), Normalize(mean=[0.4914, 0.4822, 0.4465], std=[0.2470, 0.2435, 0.2616])]), train=True) # We transform the data to tensors and horizontally flip them\n",
        "train_rotate = CIFAR10(\"/cifardata\", transform=Compose([ToTensor(), RandomRotation(10), Normalize(mean=[0.4914, 0.4822, 0.4465], std=[0.2470, 0.2435, 0.2616])]), train=True) # We transform the data to tensors and rotate them by 10 degrees\n",
        "train_crop = CIFAR10(\"/cifardata\", transform=Compose([ToTensor(), RandomCrop(32, padding=4), Normalize(mean=[0.4914, 0.4822, 0.4465], std=[0.2470, 0.2435, 0.2616])]), train=True) # We transform the data to tensors and crop with padding (remove some edges)\n",
        "\n",
        "train_kaggle = CIFAR10(\"/cifardata\", transform=Compose([RandomCrop(32, padding=4, padding_mode=\"reflect\"), RandomHorizontalFlip(), ToTensor(), Normalize(mean=[0.4914, 0.4822, 0.4465], std=[0.2470, 0.2435, 0.2616])]), train=True) # We transform the data to tensors\n",
        "\n",
        "test = CIFAR10(\"/cifardata\", download=True, transform=Compose([ToTensor(), Normalize(mean=[0.4914, 0.4822, 0.4465], std=[0.2470, 0.2435, 0.2616])]), train=False) # Once downloaded.\n",
        "\n",
        "concatDataset = torch.utils.data.ConcatDataset([train,train_hflip,train_rotate, train_crop])\n",
        "\n",
        "def get_train_loader(batch_size:int = 32):\n",
        "  return DataLoader(concatDataset, batch_size=batch_size, shuffle=True, drop_last=True)\n",
        "\n",
        "def get_test_loader(batch_size=1):\n",
        "  return DataLoader(test, batch_size=batch_size, shuffle=False, drop_last=False)\n",
        "\n",
        "def get_kaggle_loader(batch_size:int = 200):\n",
        "  return DataLoader(train_kaggle, batch_size=batch_size, shuffle=True, drop_last=True)\n",
        "\n"
      ]
    },
    {
      "cell_type": "markdown",
      "source": [
        "# Neural Network Models"
      ],
      "metadata": {
        "id": "s8UGMfkn_ycz"
      }
    },
    {
      "cell_type": "markdown",
      "source": [
        "## Dense Neural Network (DNN)"
      ],
      "metadata": {
        "id": "ERRtmnDd0Unr"
      }
    },
    {
      "cell_type": "code",
      "execution_count": null,
      "metadata": {
        "id": "mK3oxSx0R3dp"
      },
      "outputs": [],
      "source": [
        "class NNModel(nn.Module): ## Simple Feedforward Neural Network\n",
        "  def __init__(self):\n",
        "    super(NNModel, self).__init__()\n",
        "    self.flattener = nn.Flatten()\n",
        "    self.ln1 = nn.Linear(32*32*3, 512)\n",
        "    self.ln2 = nn.Linear(512, 512)\n",
        "    self.ln3 = nn.Linear(512, 10)\n",
        "\n",
        "  def forward(self, x):\n",
        "    x = self.flattener(x) # flatten to vector, input layer\n",
        "    x = F.relu(self.ln1(x)) # deep layer 1\n",
        "    x = F.relu(self.ln2(x)) # deep layer 2\n",
        "    x = self.ln3(x)# output layer\n",
        "    return x # return logits\n",
        "\n",
        "DNNModel = NNModel()\n"
      ]
    },
    {
      "cell_type": "markdown",
      "source": [
        "## Simple Convolutional Neural Network"
      ],
      "metadata": {
        "id": "bR6LrYo3_3Ke"
      }
    },
    {
      "cell_type": "code",
      "execution_count": null,
      "metadata": {
        "id": "U_y-J0VM9Wo6"
      },
      "outputs": [],
      "source": [
        "## DEFINE CONVELUTIONAL NEURAL NETWORK MODEL\n",
        "\n",
        "class CONVModel(nn.Module):\n",
        "  def __init__(self):\n",
        "    super(CONVModel, self).__init__()\n",
        "    self.conv1 = nn.Conv2d(3, 32, kernel_size=(3, 3), padding=(1, 1))\n",
        "    self.conv2 = nn.Conv2d(32, 64, kernel_size=(3, 3), padding=(1, 1))\n",
        "    self.pool1 = nn.MaxPool2d(2, 2)\n",
        "    self.pool2 = nn.MaxPool2d(2, 2)\n",
        "    self.flattener = nn.Flatten()\n",
        "    self.ln1 = nn.Linear(8*8*64, 64)\n",
        "    self.ln2 = nn.Linear(64, 10)\n",
        "  \n",
        "  def forward(self, x):\n",
        "    x = self.pool1(F.relu(self.conv1(x)))\n",
        "    x = self.pool2(F.relu(self.conv2(x)))\n",
        "    x = self.flattener(x)\n",
        "    x = F.relu(self.ln1(x))\n",
        "    x = self.ln2(x)\n",
        "    return x\n",
        "\n",
        "CONVModel = CONVModel()"
      ]
    },
    {
      "cell_type": "markdown",
      "source": [
        "## 8-Layer Self-implemented Residual Neural Network\n",
        "### As per https://arxiv.org/pdf/1512.03385.pdf"
      ],
      "metadata": {
        "id": "euGJ9zYH_6Da"
      }
    },
    {
      "cell_type": "code",
      "execution_count": null,
      "metadata": {
        "id": "wBjaXBCxjRDi",
        "colab": {
          "base_uri": "https://localhost:8080/"
        },
        "outputId": "236bbd67-ac44-4c49-bed0-41e9b89243ec"
      },
      "outputs": [
        {
          "output_type": "stream",
          "name": "stderr",
          "text": [
            "/usr/local/lib/python3.8/dist-packages/torch/nn/modules/lazy.py:180: UserWarning: Lazy modules are a new feature under heavy development so changes to the API or functionality can happen at any moment.\n",
            "  warnings.warn('Lazy modules are a new feature under heavy development '\n"
          ]
        }
      ],
      "source": [
        "\n",
        "class ResidualBlock(nn.Module):\n",
        "  def __init__(self, channel_in, channel_out, downsample: bool = False):\n",
        "    super(ResidualBlock, self).__init__()\n",
        "    self.identity_map = nn.Sequential()\n",
        "\n",
        "    if downsample:\n",
        "      self.identity_map = nn.Sequential(\n",
        "          nn.Conv2d(channel_in, channel_out, kernel_size=(1,1), stride=2),\n",
        "          nn.BatchNorm2d(channel_out))\n",
        "\n",
        "    self.conv1 = nn.Conv2d(channel_in, channel_out, kernel_size=(3,3), stride=1, padding=1)\n",
        "    self.bNorm1 = nn.BatchNorm2d(channel_out)\n",
        "\n",
        "    if downsample:\n",
        "      self.conv1 = nn.Conv2d(channel_in, channel_out, kernel_size=(3,3), stride=2, padding=1)\n",
        "\n",
        "    self.conv2 = nn.Conv2d(channel_out, channel_out, kernel_size=(3,3), stride=1, padding=1)\n",
        "    self.bNorm2 = nn.BatchNorm2d(channel_out)\n",
        "\n",
        "\n",
        "  def forward(self, x):\n",
        "    res = self.conv1(x)\n",
        "    res = F.relu(self.bNorm1(res))\n",
        "    res = self.conv2(res)\n",
        "    res = self.bNorm2(res)\n",
        "    res = F.relu(res)\n",
        "    return F.relu(res + self.identity_map(x))\n",
        "\n",
        "\n",
        "class ResidualNetSimple(nn.Module):\n",
        "  def __init__(self):\n",
        "    super(ResidualNetSimple, self).__init__()\n",
        "\n",
        "    self.conv = nn.Conv2d(in_channels = 3, out_channels = 64, kernel_size = (3,3), stride=2)\n",
        "    self.pool = nn.MaxPool2d(kernel_size = (3,3), stride=1) # stride = 2\n",
        "\n",
        "    self.r1 = ResidualBlock(64, 64)\n",
        "    self.r2 = ResidualBlock(64, 64)\n",
        "    self.r3 = ResidualBlock(64, 128, True)\n",
        "    self.r4 = ResidualBlock(128, 128)\n",
        "    self.r5 = ResidualBlock(128, 256, True)\n",
        "    self.r6 = ResidualBlock(256, 256)\n",
        "    self.r7 = ResidualBlock(256, 512, True)\n",
        "    self.r8 = ResidualBlock(512, 512)\n",
        "  \n",
        "    self.avgpool = nn.AdaptiveAvgPool2d(1)\n",
        "    self.flatten = nn.Flatten()\n",
        "    self.linear = nn.LazyLinear(out_features=10)\n",
        "\n",
        "  def forward(self, x):\n",
        "\n",
        "    res = F.relu(self.conv(x))\n",
        "    res = F.relu(self.pool(res))\n",
        "\n",
        "    res = self.r1(res)\n",
        "    res = self.r2(res)\n",
        "    res = self.r3(res)\n",
        "    res = self.r4(res)\n",
        "    res = self.r5(res)\n",
        "    res = self.r6(res)\n",
        "    res = self.r7(res)\n",
        "    res = self.r8(res)\n",
        "\n",
        "    res = self.avgpool(res)\n",
        "\n",
        "    res = self.flatten(res)\n",
        "    res = self.linear(res)\n",
        "    return res\n",
        "\n",
        "ResModel = ResidualNetSimple()\n"
      ]
    },
    {
      "cell_type": "markdown",
      "source": [
        "## 34-Layer Self-implemented Residual Neural Network"
      ],
      "metadata": {
        "id": "BlA823A_0gYS"
      }
    },
    {
      "cell_type": "code",
      "source": [
        "class ResidualBlock2(nn.Module):\n",
        "  def __init__(self, channel_in, channel_out, downsample=None , stride=1):\n",
        "    super(ResidualBlock2, self).__init__()\n",
        "    self.conv1 = nn.Conv2d(channel_in, channel_out, kernel_size=(3,3), stride=stride, padding=1)\n",
        "    self.bNorm1 = nn.BatchNorm2d(channel_out)\n",
        "    self.conv2 = nn.Conv2d(channel_out, channel_out, kernel_size=(3,3), stride=1, padding=1)\n",
        "    self.bNorm2 = nn.BatchNorm2d(channel_out)\n",
        "    self.relu = nn.ReLU()\n",
        "    self.downsample = downsample\n",
        "\n",
        "\n",
        "  def forward(self, x):\n",
        "    identity = x\n",
        "\n",
        "    x = self.conv1(x)\n",
        "    x = self.bNorm1(x)\n",
        "    x = self.relu(x)\n",
        "    x = self.conv2(x)\n",
        "    x = self.bNorm2(x)\n",
        "    x = self.relu(x)\n",
        "\n",
        "    if self.downsample is not None:\n",
        "      identity = self.downsample(identity)\n",
        "    # print(x.shape , identity.shape , self.conv1)\n",
        "    x = x + identity\n",
        "    x = self.relu(x)\n",
        "    return x\n",
        "\n",
        "class ResidualNetLarger(nn.Module): #[3,4,6,3]\n",
        "  def __init__(self , ResidualBlock2 , layers , img_channels, classes):\n",
        "    super(ResidualNetLarger, self).__init__()\n",
        "\n",
        "    self.channel_in = 64\n",
        "    self.conv1 = nn.Conv2d(img_channels, 64 , kernel_size=7, stride=2, padding=3)\n",
        "    self.bNorm1 = nn.BatchNorm2d(64)\n",
        "    self.relu = nn.ReLU()\n",
        "    self.maxpool = nn.MaxPool2d(kernel_size=3, stride=2, padding=1)\n",
        "\n",
        "    self.layer1 = self.layer(ResidualBlock2, 64, layers[0], channel_out=64, stride=1)\n",
        "    self.layer2 = self.layer(ResidualBlock2, 64, layers[1], channel_out=128, stride=2)\n",
        "    self.layer3 = self.layer(ResidualBlock2, 128, layers[2], channel_out=256, stride=2)\n",
        "    self.layer4 = self.layer(ResidualBlock2, 256, layers[3], channel_out=512, stride=2)\n",
        "\n",
        "    self.avgpool = nn.AdaptiveAvgPool2d((1,1))\n",
        "    self.fc = nn.LazyLinear(classes)\n",
        "\n",
        "  def forward(self, x):\n",
        "      x = self.conv1(x)\n",
        "      x = self.bNorm1(x)\n",
        "      x = self.relu(x)\n",
        "      x = self.maxpool(x)\n",
        "      \n",
        "      x = self.layer1(x)\n",
        "      x = self.layer2(x)\n",
        "      x = self.layer3(x)\n",
        "      x = self.layer4(x)\n",
        "\n",
        "      x = self.avgpool(x)\n",
        "      x = nn.Flatten()(x)\n",
        "      x = self.fc(x)\n",
        "\n",
        "      return x\n",
        "\n",
        "\n",
        "  def layer(self, ResidualBlock2, channel_in, count_residual_blocks, channel_out, stride):\n",
        "    downsample = None\n",
        "    layers = []\n",
        "\n",
        "    if stride != 1 or channel_in != channel_out:\n",
        "      downsample = nn.Sequential(nn.Conv2d(channel_in, channel_out, kernel_size=1, stride=stride),\n",
        "                                 nn.BatchNorm2d(channel_out))\n",
        "      \n",
        "    layers.append(ResidualBlock2(channel_in, channel_out, downsample, stride))\n",
        "    channel_in = channel_out\n",
        "\n",
        "    for i in range(count_residual_blocks-1):\n",
        "      layers.append(ResidualBlock2(channel_in, channel_out))\n",
        "\n",
        "    return nn.Sequential(*layers)\n",
        "\n",
        "def ResNet34(img_channel=3 , classes = 10):\n",
        "  return ResidualNetLarger(ResidualBlock2, [3, 4, 6, 3], img_channel, classes)\n",
        "\n",
        "Res34Model = ResNet34()"
      ],
      "metadata": {
        "id": "U_hQUIJ61NTl"
      },
      "execution_count": null,
      "outputs": []
    },
    {
      "cell_type": "markdown",
      "source": [
        "## PyTorch ResNet Model"
      ],
      "metadata": {
        "id": "WYVfLsV_VBaM"
      }
    },
    {
      "cell_type": "code",
      "source": [
        "TorchResModel = torch.hub.load('pytorch/vision:v0.10.0', 'resnet18', pretrained=False)"
      ],
      "metadata": {
        "colab": {
          "base_uri": "https://localhost:8080/"
        },
        "id": "mh7qKUP-VC7l",
        "outputId": "f56151fc-0ed9-4b2a-88c1-a400f8dc27e9"
      },
      "execution_count": null,
      "outputs": [
        {
          "output_type": "stream",
          "name": "stderr",
          "text": [
            "Using cache found in /root/.cache/torch/hub/pytorch_vision_v0.10.0\n",
            "/usr/local/lib/python3.8/dist-packages/torchvision/models/_utils.py:208: UserWarning: The parameter 'pretrained' is deprecated since 0.13 and may be removed in the future, please use 'weights' instead.\n",
            "  warnings.warn(\n",
            "/usr/local/lib/python3.8/dist-packages/torchvision/models/_utils.py:223: UserWarning: Arguments other than a weight enum or `None` for 'weights' are deprecated since 0.13 and may be removed in the future. The current behavior is equivalent to passing `weights=None`.\n",
            "  warnings.warn(msg)\n"
          ]
        }
      ]
    },
    {
      "cell_type": "code",
      "source": [
        "from torchvision import models\n",
        "model_vgg = models.vgg16(pretrained = False)\n"
      ],
      "metadata": {
        "colab": {
          "base_uri": "https://localhost:8080/"
        },
        "id": "DreEoIWjZ_R9",
        "outputId": "cc4a5044-5c37-4ae9-8292-1c3bcae9c063"
      },
      "execution_count": null,
      "outputs": [
        {
          "output_type": "stream",
          "name": "stderr",
          "text": [
            "/usr/local/lib/python3.8/dist-packages/torchvision/models/_utils.py:208: UserWarning: The parameter 'pretrained' is deprecated since 0.13 and may be removed in the future, please use 'weights' instead.\n",
            "  warnings.warn(\n",
            "/usr/local/lib/python3.8/dist-packages/torchvision/models/_utils.py:223: UserWarning: Arguments other than a weight enum or `None` for 'weights' are deprecated since 0.13 and may be removed in the future. The current behavior is equivalent to passing `weights=None`.\n",
            "  warnings.warn(msg)\n"
          ]
        }
      ]
    },
    {
      "cell_type": "markdown",
      "source": [
        "# Model Tests\n",
        "Simple assertions on input & output"
      ],
      "metadata": {
        "id": "rEysTet-AGc4"
      }
    },
    {
      "cell_type": "code",
      "execution_count": null,
      "metadata": {
        "id": "mMi-QZPFVERC"
      },
      "outputs": [],
      "source": [
        "## TEST BATCH SIZE 64\n",
        "test_data = torch.rand(64, 3, 32, 32)\n",
        "output = DNNModel(test_data)\n",
        "assert output.shape == (64, 10)\n",
        "\n",
        "output2 = CONVModel(test_data)\n",
        "assert output2.shape == (64, 10)\n",
        "\n",
        "output3 = ResModel(test_data)\n",
        "assert output3.shape == (64, 10)\n",
        "\n",
        "output4 = Res34Model(test_data)\n",
        "assert output4.shape == (64, 10)\n",
        "\n",
        "output5 = TorchResModel(test_data)\n",
        "assert output5.shape == (64, 1000)"
      ]
    },
    {
      "cell_type": "code",
      "execution_count": null,
      "metadata": {
        "colab": {
          "base_uri": "https://localhost:8080/"
        },
        "id": "kczHF3VwW_xw",
        "outputId": "fb27cf6c-ed3d-4b08-bf38-653d4abce280"
      },
      "outputs": [
        {
          "output_type": "stream",
          "name": "stdout",
          "text": [
            "tensor([9, 8, 7, 6, 5, 4, 3, 2, 1, 0]) tensor([9, 8, 7, 6, 5, 4, 3, 2, 1, 0])\n",
            "tensor([9, 8, 7, 6, 5, 4, 3, 2, 1, 0]) tensor([9, 8, 7, 6, 5, 4, 3, 2, 1, 0])\n",
            "tensor([9, 8, 7, 6, 5, 4, 3, 2, 1, 0]) tensor([9, 8, 7, 6, 5, 4, 3, 2, 1, 0])\n",
            "tensor([9, 8, 7, 6, 5, 4, 3, 2, 1, 0]) tensor([9, 8, 7, 6, 5, 4, 3, 2, 1, 0])\n"
          ]
        }
      ],
      "source": [
        "# OPTIMIZER & LOSS FUNCTION\n",
        "loss_function = nn.CrossEntropyLoss()\n",
        "optimizer1 = torch.optim.Adam(DNNModel.parameters(), lr=1e-02)\n",
        "optimizer2 = torch.optim.Adam(CONVModel.parameters(), lr=1e-02)\n",
        "optimizer3 = torch.optim.Adam(ResModel.parameters(), lr=1e-02)\n",
        "optimizer4 = torch.optim.Adam(Res34Model.parameters(), lr=1e-02)\n",
        "\n",
        "# Overfit to following values and target:\n",
        "training_values1 = torch.rand(10, 3, 32, 32)\n",
        "training_values2 = torch.rand(10, 3, 32, 32)\n",
        "training_values3 = torch.rand(10, 3, 32, 32)\n",
        "training_values4 = torch.rand(10, 3, 32, 32)\n",
        "training_target = torch.Tensor(list(range(10))[::-1]).long()\n",
        "\n",
        "for i in range(50):\n",
        "  val1, val2, val3, val4 = DNNModel(training_values1), CONVModel(training_values2), ResModel(training_values3), Res34Model(training_values4)\n",
        "  loss1, loss2, loss3, loss4 = loss_function(val1, training_target), loss_function(val2, training_target), loss_function(val3, training_target), loss_function(val4, training_target)\n",
        "  optimizer1.zero_grad()\n",
        "  optimizer2.zero_grad()\n",
        "  optimizer3.zero_grad()\n",
        "  optimizer4.zero_grad()\n",
        "  loss1.backward()\n",
        "  loss2.backward()\n",
        "  loss3.backward()\n",
        "  loss4.backward()\n",
        "  optimizer1.step()\n",
        "  optimizer2.step()\n",
        "  optimizer3.step()\n",
        "  optimizer4.step()\n",
        "\n",
        "print(torch.argmax(DNNModel(training_values1), dim=1), training_target)\n",
        "print(torch.argmax(CONVModel(training_values2), dim=1), training_target)\n",
        "print(torch.argmax(ResModel(training_values3), dim=1), training_target)\n",
        "print(torch.argmax(Res34Model(training_values4), dim=1), training_target)\n",
        "\n"
      ]
    },
    {
      "cell_type": "markdown",
      "source": [
        "# Custom Definitions for data_loader and loss\n",
        " (No longer used in favor of built-in, more stable, implementations)"
      ],
      "metadata": {
        "id": "6AW-AN1NBECS"
      }
    },
    {
      "cell_type": "code",
      "execution_count": null,
      "metadata": {
        "id": "eMRlyqIr9SDS"
      },
      "outputs": [],
      "source": [
        "## LOSS FUNCTION\n",
        "# CROSS ENTROPY LOSS\n",
        "\n",
        "def cross_entropy_loss(logits: torch.Tensor, target: torch.Tensor) -> torch.Tensor:\n",
        "  def softmax_average(values: torch.Tensor, target: int):\n",
        "    return torch.exp(value[target]) / torch.sum(torch.exp(values))\n",
        "\n",
        "  if logits.shape[0] != len(target):\n",
        "    print(\"LOGITS SHAPE (BATCH, C) DOES NOT EQUAL TARGET SHAPE (C,)\")\n",
        "  else:\n",
        "    loss = 0\n",
        "    for index, value in enumerate(logits):\n",
        "      loss += -torch.log(softmax_average(value, target[index]))\n",
        "    return loss\n",
        "\n",
        "def get_new_batch(dataset, index: int, take_out_last: bool = True):\n",
        "\n",
        "  tmp_values  = torch.zeros((batch_size, 3, 32, 32))\n",
        "  tmp_targets = torch.zeros((batch_size))\n",
        "  try:\n",
        "    for f, i in enumerate(range(index, index + batch_size)):\n",
        "      tmp_values[f] = dataset[i][0] / 255.0\n",
        "      tmp_targets[f] = dataset[i][1]\n",
        "  except IndexError as E:\n",
        "    if take_out_last:\n",
        "      return None, None\n",
        "  return tmp_values.to(device), tmp_targets.to(device)"
      ]
    },
    {
      "cell_type": "markdown",
      "source": [
        "# Main Training Loop"
      ],
      "metadata": {
        "id": "K72ChULfBPmV"
      }
    },
    {
      "cell_type": "code",
      "execution_count": null,
      "metadata": {
        "colab": {
          "base_uri": "https://localhost:8080/"
        },
        "id": "369McNyvatjE",
        "outputId": "0c33aafa-8a25-4823-e1ef-20efc0fd1f3e"
      },
      "outputs": [
        {
          "output_type": "stream",
          "name": "stdout",
          "text": [
            "----- EPOCH 1 -----\n",
            "\t\tBATCH 100:\tBatch Loss: 14.17\tMean loss: 0.06\t\n",
            "\t\tBATCH 200:\tBatch Loss: 13.99\tMean loss: 0.05\t\n",
            "\t\tBATCH 300:\tBatch Loss: 14.73\tMean loss: 0.06\t\n",
            "\t\tBATCH 400:\tBatch Loss: 17.93\tMean loss: 0.07\t\n",
            "\t\tBATCH 500:\tBatch Loss: 23.90\tMean loss: 0.09\t\n",
            "\t\tBATCH 600:\tBatch Loss: 26.06\tMean loss: 0.10\t\n",
            "\t\tBATCH 700:\tBatch Loss: 32.37\tMean loss: 0.13\t\n",
            "----- END OF EPOCH 1 -----\n",
            " *** RUNNING VALIDATION TEST ***\n",
            "\tTest Accuracy: 0.822\n",
            "----- EPOCH 2 -----\n",
            "\t\tBATCH 100:\tBatch Loss: 36.06\tMean loss: 0.14\t\n",
            "\t\tBATCH 200:\tBatch Loss: 41.31\tMean loss: 0.16\t\n",
            "\t\tBATCH 300:\tBatch Loss: 40.15\tMean loss: 0.16\t\n",
            "\t\tBATCH 400:\tBatch Loss: 46.10\tMean loss: 0.18\t\n",
            "\t\tBATCH 500:\tBatch Loss: 39.26\tMean loss: 0.15\t\n",
            "\t\tBATCH 600:\tBatch Loss: 40.18\tMean loss: 0.16\t\n",
            "\t\tBATCH 700:\tBatch Loss: 39.70\tMean loss: 0.16\t\n",
            "----- END OF EPOCH 2 -----\n",
            " *** RUNNING VALIDATION TEST ***\n",
            "\tTest Accuracy: 0.8293\n",
            "----- EPOCH 3 -----\n",
            "\t\tBATCH 100:\tBatch Loss: 31.83\tMean loss: 0.12\t\n",
            "\t\tBATCH 200:\tBatch Loss: 31.44\tMean loss: 0.12\t\n",
            "\t\tBATCH 300:\tBatch Loss: 30.74\tMean loss: 0.12\t\n",
            "\t\tBATCH 400:\tBatch Loss: 30.76\tMean loss: 0.12\t\n",
            "\t\tBATCH 500:\tBatch Loss: 29.56\tMean loss: 0.12\t\n",
            "\t\tBATCH 600:\tBatch Loss: 27.84\tMean loss: 0.11\t\n",
            "\t\tBATCH 700:\tBatch Loss: 26.46\tMean loss: 0.10\t\n",
            "----- END OF EPOCH 3 -----\n",
            " *** RUNNING VALIDATION TEST ***\n",
            "\tTest Accuracy: 0.8555\n",
            "----- EPOCH 4 -----\n",
            "\t\tBATCH 100:\tBatch Loss: 20.61\tMean loss: 0.08\t\n",
            "\t\tBATCH 200:\tBatch Loss: 18.43\tMean loss: 0.07\t\n",
            "\t\tBATCH 300:\tBatch Loss: 17.77\tMean loss: 0.07\t\n",
            "\t\tBATCH 400:\tBatch Loss: 16.76\tMean loss: 0.07\t\n",
            "\t\tBATCH 500:\tBatch Loss: 15.28\tMean loss: 0.06\t\n",
            "\t\tBATCH 600:\tBatch Loss: 13.42\tMean loss: 0.05\t\n",
            "\t\tBATCH 700:\tBatch Loss: 13.61\tMean loss: 0.05\t\n",
            "----- END OF EPOCH 4 -----\n",
            " *** RUNNING VALIDATION TEST ***\n",
            "\tTest Accuracy: 0.8737\n",
            "----- EPOCH 5 -----\n",
            "\t\tBATCH 100:\tBatch Loss: 8.42\tMean loss: 0.03\t\n",
            "\t\tBATCH 200:\tBatch Loss: 8.36\tMean loss: 0.03\t\n",
            "\t\tBATCH 300:\tBatch Loss: 7.75\tMean loss: 0.03\t\n",
            "\t\tBATCH 400:\tBatch Loss: 7.60\tMean loss: 0.03\t\n",
            "\t\tBATCH 500:\tBatch Loss: 7.66\tMean loss: 0.03\t\n",
            "\t\tBATCH 600:\tBatch Loss: 6.94\tMean loss: 0.03\t\n",
            "\t\tBATCH 700:\tBatch Loss: 6.88\tMean loss: 0.03\t\n",
            "----- END OF EPOCH 5 -----\n",
            " *** RUNNING VALIDATION TEST ***\n",
            "\tTest Accuracy: 0.8773\n",
            "DONE!\n"
          ]
        }
      ],
      "source": [
        "# Define neccessary variables\n",
        "device = torch.device('cuda:0' if torch.cuda.is_available() else 'cpu')\n",
        "epochs = 5\n",
        "batch_size = 256\n",
        "\n",
        "model = model_vgg\n",
        "model.to(device) \n",
        "\n",
        "# DATA LOADERS\n",
        "train_loader = get_train_loader(batch_size)\n",
        "test_loader = get_test_loader(200)\n",
        "\n",
        "# OPTIMIZER & LOSS FUNCTION\n",
        "loss_function = nn.CrossEntropyLoss()\n",
        "optimizer = torch.optim.Adam(model.parameters(), lr=1e-07)\n",
        "scheduler = torch.optim.lr_scheduler.OneCycleLR(optimizer, max_lr=1e-03, epochs=epochs, steps_per_epoch=len(train_loader))\n",
        "\n",
        "val_losses = []\n",
        "\n",
        "#####################\n",
        "# INITIAL TEST LOSS #\n",
        "#####################\n",
        "\n",
        "val_loss = 0\n",
        "for val, targ in iter(test_loader):\n",
        "  loss = loss_function(model(val.to(device)), targ.to(device))\n",
        "  val_loss += loss.sum().item()\n",
        "val_losses.append(val_loss)\n",
        "\n",
        "for epoch in range(epochs):\n",
        "  print(f\"----- EPOCH {epoch + 1} -----\")\n",
        "\n",
        "  ##################\n",
        "  # MAIN TEST LOOP #\n",
        "  ##################\n",
        "\n",
        "  running_loss = 0\n",
        "  model.train()\n",
        "  mean_loss_list1 = []\n",
        "\n",
        "  for batch, (vals, real_targs) in enumerate(iter(train_loader)):\n",
        "    vals, real_targs = vals.to(device), real_targs.to(device)\n",
        "    model_targs = model(vals)\n",
        "\n",
        "    # zero grad the optimizer\n",
        "    optimizer.zero_grad()\n",
        "\n",
        "    # calculate loss\n",
        "    loss = loss_function(model_targs, real_targs)\n",
        "    running_loss += loss.item()\n",
        "    # Backpropogate loss\n",
        "    loss.backward()\n",
        "\n",
        "    # Step optimizer\n",
        "    optimizer.step()\n",
        "    scheduler.step()\n",
        "\n",
        "\n",
        "    # append to mean_loss\n",
        "    mean_loss_list1.append(running_loss/batch_size)\n",
        "\n",
        "    if (batch + 1) % 100 == 0:\n",
        "      print(f\"\\t\\tBATCH {(batch+1)}:\\tBatch Loss: {running_loss:.2f}\\tMean loss: {(running_loss/batch_size):.2f}\\t\")\n",
        "      running_loss = 0\n",
        "    \n",
        "  ###########################\n",
        "  # END-OF-EPOCH VALIDATION #\n",
        "  ###########################\n",
        "  print(f\"----- END OF EPOCH {epoch + 1} -----\")\n",
        "  print(f\" *** RUNNING VALIDATION TEST ***\")\n",
        "  model.eval()\n",
        "  val_loss = 0\n",
        "  for val, targ in iter(test_loader):\n",
        "    val_loss += loss_function(model(val.to(device)), targ.to(device)).item()\n",
        "  val_losses.append(val_loss)\n",
        "  wrong, correct = 0, 0\n",
        "\n",
        "  for val, targ in iter(get_test_loader(batch_size=32)):\n",
        "    val, targ = val.to(device), targ.to(device)\n",
        "\n",
        "    val = model(val)\n",
        "    for v, t in zip(val, targ):\n",
        "      if torch.argmax(v).item() == t.item():\n",
        "        correct += 1\n",
        "      else:\n",
        "        wrong += 1\n",
        "  print(f\"\\tTest Accuracy: {correct/(correct+wrong)}\")\n",
        "print(f\"DONE!\")"
      ]
    },
    {
      "cell_type": "markdown",
      "source": [
        "# Plots & Statistics"
      ],
      "metadata": {
        "id": "8ljIYg3EEIHA"
      }
    },
    {
      "cell_type": "code",
      "execution_count": null,
      "metadata": {
        "id": "VWyFAwvpi6ri",
        "colab": {
          "base_uri": "https://localhost:8080/",
          "height": 546
        },
        "outputId": "510b05cd-f4ed-4978-f54c-747f5938e79d"
      },
      "outputs": [
        {
          "output_type": "execute_result",
          "data": {
            "text/plain": [
              "<matplotlib.axes._subplots.AxesSubplot at 0x7fe37a2f2e20>"
            ]
          },
          "metadata": {},
          "execution_count": 21
        },
        {
          "output_type": "display_data",
          "data": {
            "text/plain": [
              "<Figure size 576x576 with 2 Axes>"
            ],
            "image/png": "[encoded data removed]"
          },
          "metadata": {
            "needs_background": "light"
          }
        }
      ],
      "source": [
        "from sklearn.metrics import confusion_matrix\n",
        "import seaborn as sns\n",
        "import matplotlib.pyplot as plt\n",
        "\n",
        "# Confusion Matrix:\n",
        "predictions = []\n",
        "real = []\n",
        "\n",
        "for v, t in iter(get_test_loader(32)):\n",
        "  predictions.extend(model(v.to(device)).argmax(1).cpu())\n",
        "  real.extend(t.cpu())\n",
        "\n",
        "#The following 7 lines are all that is required to plot the confusion matrix.\n",
        "predictions_for_cm = predictions\n",
        "\n",
        "class_names = [\"airplane\",\"automobile\",\"bird\",\"cat\",\"deer\",\"dog\",\"frog\",\"horse\",\"ship\",\"truck\"]\n",
        "\n",
        "cm = confusion_matrix(real,predictions_for_cm)\n",
        "plt.figure(figsize=(8,8))\n",
        "sns.heatmap(cm, annot=True,  fmt=\".0f\", xticklabels=class_names, yticklabels = class_names)"
      ]
    },
    {
      "cell_type": "markdown",
      "source": [
        "## T-Test"
      ],
      "metadata": {
        "id": "H5VJMq0jI2HP"
      }
    },
    {
      "cell_type": "code",
      "source": [
        "import scipy.stats as stats\n",
        "!pip install pingouin\n",
        "from pingouin import ttest\n",
        "###########\n",
        "# T-Test: #\n",
        "###########\n",
        "stats.ttest_rel(mean_loss_list1, mean_loss_list2)\n",
        "\n",
        "ttest(mean_loss_list1, mean_loss_list2, paired = True)\n"
      ],
      "metadata": {
        "id": "3Nq9oB1z54GY",
        "colab": {
          "base_uri": "https://localhost:8080/",
          "height": 654
        },
        "outputId": "ffec43f1-3c41-4cda-e266-3ec240352211"
      },
      "execution_count": null,
      "outputs": [
        {
          "output_type": "stream",
          "name": "stdout",
          "text": [
            "Looking in indexes: https://pypi.org/simple, https://us-python.pkg.dev/colab-wheels/public/simple/\n",
            "Requirement already satisfied: pingouin in /usr/local/lib/python3.8/dist-packages (0.5.3)\n",
            "Requirement already satisfied: seaborn>=0.11 in /usr/local/lib/python3.8/dist-packages (from pingouin) (0.11.2)\n",
            "Requirement already satisfied: outdated in /usr/local/lib/python3.8/dist-packages (from pingouin) (0.2.2)\n",
            "Requirement already satisfied: scikit-learn in /usr/local/lib/python3.8/dist-packages (from pingouin) (1.0.2)\n",
            "Requirement already satisfied: tabulate in /usr/local/lib/python3.8/dist-packages (from pingouin) (0.8.10)\n",
            "Requirement already satisfied: matplotlib>=3.0.2 in /usr/local/lib/python3.8/dist-packages (from pingouin) (3.2.2)\n",
            "Requirement already satisfied: statsmodels>=0.13 in /usr/local/lib/python3.8/dist-packages (from pingouin) (0.13.5)\n",
            "Requirement already satisfied: scipy>=1.7 in /usr/local/lib/python3.8/dist-packages (from pingouin) (1.7.3)\n",
            "Requirement already satisfied: pandas-flavor>=0.2.0 in /usr/local/lib/python3.8/dist-packages (from pingouin) (0.3.0)\n",
            "Requirement already satisfied: pandas>=1.0 in /usr/local/lib/python3.8/dist-packages (from pingouin) (1.3.5)\n",
            "Requirement already satisfied: numpy>=1.19 in /usr/local/lib/python3.8/dist-packages (from pingouin) (1.21.6)\n",
            "Requirement already satisfied: kiwisolver>=1.0.1 in /usr/local/lib/python3.8/dist-packages (from matplotlib>=3.0.2->pingouin) (1.4.4)\n",
            "Requirement already satisfied: pyparsing!=2.0.4,!=2.1.2,!=2.1.6,>=2.0.1 in /usr/local/lib/python3.8/dist-packages (from matplotlib>=3.0.2->pingouin) (3.0.9)\n",
            "Requirement already satisfied: python-dateutil>=2.1 in /usr/local/lib/python3.8/dist-packages (from matplotlib>=3.0.2->pingouin) (2.8.2)\n",
            "Requirement already satisfied: cycler>=0.10 in /usr/local/lib/python3.8/dist-packages (from matplotlib>=3.0.2->pingouin) (0.11.0)\n",
            "Requirement already satisfied: pytz>=2017.3 in /usr/local/lib/python3.8/dist-packages (from pandas>=1.0->pingouin) (2022.7)\n",
            "Requirement already satisfied: xarray in /usr/local/lib/python3.8/dist-packages (from pandas-flavor>=0.2.0->pingouin) (2022.12.0)\n",
            "Requirement already satisfied: lazy-loader==0.1rc2 in /usr/local/lib/python3.8/dist-packages (from pandas-flavor>=0.2.0->pingouin) (0.1rc2)\n",
            "Requirement already satisfied: packaging>=21.3 in /usr/local/lib/python3.8/dist-packages (from statsmodels>=0.13->pingouin) (21.3)\n",
            "Requirement already satisfied: patsy>=0.5.2 in /usr/local/lib/python3.8/dist-packages (from statsmodels>=0.13->pingouin) (0.5.3)\n",
            "Requirement already satisfied: littleutils in /usr/local/lib/python3.8/dist-packages (from outdated->pingouin) (0.2.2)\n",
            "Requirement already satisfied: setuptools>=44 in /usr/local/lib/python3.8/dist-packages (from outdated->pingouin) (57.4.0)\n",
            "Requirement already satisfied: requests in /usr/local/lib/python3.8/dist-packages (from outdated->pingouin) (2.25.1)\n",
            "Requirement already satisfied: threadpoolctl>=2.0.0 in /usr/local/lib/python3.8/dist-packages (from scikit-learn->pingouin) (3.1.0)\n",
            "Requirement already satisfied: joblib>=0.11 in /usr/local/lib/python3.8/dist-packages (from scikit-learn->pingouin) (1.2.0)\n",
            "Requirement already satisfied: six in /usr/local/lib/python3.8/dist-packages (from patsy>=0.5.2->statsmodels>=0.13->pingouin) (1.15.0)\n",
            "Requirement already satisfied: idna<3,>=2.5 in /usr/local/lib/python3.8/dist-packages (from requests->outdated->pingouin) (2.10)\n",
            "Requirement already satisfied: urllib3<1.27,>=1.21.1 in /usr/local/lib/python3.8/dist-packages (from requests->outdated->pingouin) (1.24.3)\n",
            "Requirement already satisfied: certifi>=2017.4.17 in /usr/local/lib/python3.8/dist-packages (from requests->outdated->pingouin) (2022.12.7)\n",
            "Requirement already satisfied: chardet<5,>=3.0.2 in /usr/local/lib/python3.8/dist-packages (from requests->outdated->pingouin) (4.0.0)\n"
          ]
        },
        {
          "output_type": "execute_result",
          "data": {
            "text/plain": [
              "               T  dof alternative          p-val           CI95%  cohen-d  \\\n",
              "T-test -48.60822  780   two-sided  3.041508e-238  [-0.03, -0.03]  0.19968   \n",
              "\n",
              "              BF10     power  \n",
              "T-test  1.246e+234  0.999849  "
            ],
            "text/html": [
              "\n",
              "  <div id=\"df-f5aa16d9-8478-4a44-bf4e-2ccbf8cfade0\">\n",
              "    <div class=\"colab-df-container\">\n",
              "      <div>\n",
              "<style scoped>\n",
              "    .dataframe tbody tr th:only-of-type {\n",
              "        vertical-align: middle;\n",
              "    }\n",
              "\n",
              "    .dataframe tbody tr th {\n",
              "        vertical-align: top;\n",
              "    }\n",
              "\n",
              "    .dataframe thead th {\n",
              "        text-align: right;\n",
              "    }\n",
              "</style>\n",
              "<table border=\"1\" class=\"dataframe\">\n",
              "  <thead>\n",
              "    <tr style=\"text-align: right;\">\n",
              "      <th></th>\n",
              "      <th>T</th>\n",
              "      <th>dof</th>\n",
              "      <th>alternative</th>\n",
              "      <th>p-val</th>\n",
              "      <th>CI95%</th>\n",
              "      <th>cohen-d</th>\n",
              "      <th>BF10</th>\n",
              "      <th>power</th>\n",
              "    </tr>\n",
              "  </thead>\n",
              "  <tbody>\n",
              "    <tr>\n",
              "      <th>T-test</th>\n",
              "      <td>-48.60822</td>\n",
              "      <td>780</td>\n",
              "      <td>two-sided</td>\n",
              "      <td>3.041508e-238</td>\n",
              "      <td>[-0.03, -0.03]</td>\n",
              "      <td>0.19968</td>\n",
              "      <td>1.246e+234</td>\n",
              "      <td>0.999849</td>\n",
              "    </tr>\n",
              "  </tbody>\n",
              "</table>\n",
              "</div>\n",
              "      <button class=\"colab-df-convert\" onclick=\"convertToInteractive('df-f5aa16d9-8478-4a44-bf4e-2ccbf8cfade0')\"\n",
              "              title=\"Convert this dataframe to an interactive table.\"\n",
              "              style=\"display:none;\">\n",
              "        \n",
              "  <svg xmlns=\"http://www.w3.org/2000/svg\" height=\"24px\"viewBox=\"0 0 24 24\"\n",
              "       width=\"24px\">\n",
              "    <path d=\"M0 0h24v24H0V0z\" fill=\"none\"/>\n",
              "    <path d=\"M18.56 5.44l.94 2.06.94-2.06 2.06-.94-2.06-.94-.94-2.06-.94 2.06-2.06.94zm-11 1L8.5 8.5l.94-2.06 2.06-.94-2.06-.94L8.5 2.5l-.94 2.06-2.06.94zm10 10l.94 2.06.94-2.06 2.06-.94-2.06-.94-.94-2.06-.94 2.06-2.06.94z\"/><path d=\"M17.41 7.96l-1.37-1.37c-.4-.4-.92-.59-1.43-.59-.52 0-1.04.2-1.43.59L10.3 9.45l-7.72 7.72c-.78.78-.78 2.05 0 2.83L4 21.41c.39.39.9.59 1.41.59.51 0 1.02-.2 1.41-.59l7.78-7.78 2.81-2.81c.8-.78.8-2.07 0-2.86zM5.41 20L4 18.59l7.72-7.72 1.47 1.35L5.41 20z\"/>\n",
              "  </svg>\n",
              "      </button>\n",
              "      \n",
              "  <style>\n",
              "    .colab-df-container {\n",
              "      display:flex;\n",
              "      flex-wrap:wrap;\n",
              "      gap: 12px;\n",
              "    }\n",
              "\n",
              "    .colab-df-convert {\n",
              "      background-color: #E8F0FE;\n",
              "      border: none;\n",
              "      border-radius: 50%;\n",
              "      cursor: pointer;\n",
              "      display: none;\n",
              "      fill: #1967D2;\n",
              "      height: 32px;\n",
              "      padding: 0 0 0 0;\n",
              "      width: 32px;\n",
              "    }\n",
              "\n",
              "    .colab-df-convert:hover {\n",
              "      background-color: #E2EBFA;\n",
              "      box-shadow: 0px 1px 2px rgba(60, 64, 67, 0.3), 0px 1px 3px 1px rgba(60, 64, 67, 0.15);\n",
              "      fill: #174EA6;\n",
              "    }\n",
              "\n",
              "    [theme=dark] .colab-df-convert {\n",
              "      background-color: #3B4455;\n",
              "      fill: #D2E3FC;\n",
              "    }\n",
              "\n",
              "    [theme=dark] .colab-df-convert:hover {\n",
              "      background-color: #434B5C;\n",
              "      box-shadow: 0px 1px 3px 1px rgba(0, 0, 0, 0.15);\n",
              "      filter: drop-shadow(0px 1px 2px rgba(0, 0, 0, 0.3));\n",
              "      fill: #FFFFFF;\n",
              "    }\n",
              "  </style>\n",
              "\n",
              "      <script>\n",
              "        const buttonEl =\n",
              "          document.querySelector('#df-f5aa16d9-8478-4a44-bf4e-2ccbf8cfade0 button.colab-df-convert');\n",
              "        buttonEl.style.display =\n",
              "          google.colab.kernel.accessAllowed ? 'block' : 'none';\n",
              "\n",
              "        async function convertToInteractive(key) {\n",
              "          const element = document.querySelector('#df-f5aa16d9-8478-4a44-bf4e-2ccbf8cfade0');\n",
              "          const dataTable =\n",
              "            await google.colab.kernel.invokeFunction('convertToInteractive',\n",
              "                                                     [key], {});\n",
              "          if (!dataTable) return;\n",
              "\n",
              "          const docLinkHtml = 'Like what you see? Visit the ' +\n",
              "            '<a target=\"_blank\" href=https://colab.research.google.com/notebooks/data_table.ipynb>data table notebook</a>'\n",
              "            + ' to learn more about interactive tables.';\n",
              "          element.innerHTML = '';\n",
              "          dataTable['output_type'] = 'display_data';\n",
              "          await google.colab.output.renderOutput(dataTable, element);\n",
              "          const docLink = document.createElement('div');\n",
              "          docLink.innerHTML = docLinkHtml;\n",
              "          element.appendChild(docLink);\n",
              "        }\n",
              "      </script>\n",
              "    </div>\n",
              "  </div>\n",
              "  "
            ]
          },
          "metadata": {},
          "execution_count": 15
        }
      ]
    },
    {
      "cell_type": "code",
      "source": [
        "import math\n",
        "###################################\n",
        "# Confidence interval for models: #\n",
        "###################################\n",
        "\n",
        "# IF confidence interval of proportion is 10% > p > 90%\n",
        "\n",
        "# name: Agresti-Coull interval\n",
        "\n",
        "#Sample size\n",
        "n = 10000\n",
        "\n",
        "#proportion\n",
        "p = 0.89\n",
        "\n",
        "def Conf_interval():\n",
        "  if p < 0.1 or p > 0.9:\n",
        "    p_hat = (p*n+2)/(n+4)\n",
        "    n_hat = n+4\n",
        "\n",
        "    Agresti_Coull_upper = p_hat + 1.96 * math.sqrt((p_hat*(1-p_hat))/n_hat)\n",
        "    Agresti_Coull_lower = p_hat - 1.96 * math.sqrt((p_hat*(1-p_hat))/n_hat)\n",
        "\n",
        "    return Agresti_Coull_lower , Agresti_Coull_upper\n",
        "\n",
        "  else:\n",
        "    upper = p + 1.96 * math.sqrt(p*((1-p)/n))\n",
        "    lower = p - 1.96 * math.sqrt(p*((1-p)/n))\n",
        "    return lower , upper\n",
        "\n",
        "print(Conf_interval())"
      ],
      "metadata": {
        "colab": {
          "base_uri": "https://localhost:8080/"
        },
        "id": "9aosZv_ZLiBc",
        "outputId": "a2c470ef-2aa8-4623-bcf6-59cc42861977"
      },
      "execution_count": null,
      "outputs": [
        {
          "output_type": "stream",
          "name": "stdout",
          "text": [
            "(0.8838673607639125, 0.8961326392360875)\n"
          ]
        }
      ]
    },
    {
      "cell_type": "code",
      "execution_count": null,
      "metadata": {
        "id": "5Ke-kS02kmI_"
      },
      "outputs": [],
      "source": [
        "wrong, correct = 0, 0\n",
        "\n",
        "for val, targ in iter(get_test_loader(batch_size=32)):\n",
        "  val, targ = val.to(device), targ.to(device)\n",
        "\n",
        "  val = model(val)\n",
        "  for v, t in zip(val, targ):\n",
        "    if torch.argmax(v).item() == t.item():\n",
        "      correct += 1\n",
        "    else:\n",
        "      wrong += 1\n",
        "\n",
        "print(f\"Total: {wrong+correct} ; Wrong: {wrong}, Correct: {correct}, average: {correct/(wrong+correct) * 100.0}%\")"
      ]
    }
  ],
  "metadata": {
    "accelerator": "GPU",
    "colab": {
      "provenance": []
    },
    "gpuClass": "standard",
    "kernelspec": {
      "display_name": "Python 3",
      "name": "python3"
    },
    "language_info": {
      "name": "python"
    },
    "widgets": {
      "application/vnd.jupyter.widget-state+json": {
        "493a77e2769c4073bedd00192fc35d3d": {
          "model_module": "@jupyter-widgets/controls",
          "model_name": "HBoxModel",
          "model_module_version": "1.5.0",
          "state": {
            "_dom_classes": [],
            "_model_module": "@jupyter-widgets/controls",
            "_model_module_version": "1.5.0",
            "_model_name": "HBoxModel",
            "_view_count": null,
            "_view_module": "@jupyter-widgets/controls",
            "_view_module_version": "1.5.0",
            "_view_name": "HBoxView",
            "box_style": "",
            "children": [
              "IPY_MODEL_5107006b45c94ad5ae548310be7f2848",
              "IPY_MODEL_517493bf5898418aaf7b056027fa519b",
              "IPY_MODEL_0380bab6ba734085a9eeefb4fbcc1189"
            ],
            "layout": "IPY_MODEL_7013c90433ec4e3c9c02158e4f6b1880"
          }
        },
        "5107006b45c94ad5ae548310be7f2848": {
          "model_module": "@jupyter-widgets/controls",
          "model_name": "HTMLModel",
          "model_module_version": "1.5.0",
          "state": {
            "_dom_classes": [],
            "_model_module": "@jupyter-widgets/controls",
            "_model_module_version": "1.5.0",
            "_model_name": "HTMLModel",
            "_view_count": null,
            "_view_module": "@jupyter-widgets/controls",
            "_view_module_version": "1.5.0",
            "_view_name": "HTMLView",
            "description": "",
            "description_tooltip": null,
            "layout": "IPY_MODEL_14ec6a13de034ad3b513918e5168f005",
            "placeholder": "​",
            "style": "IPY_MODEL_a6acdf5318b94d0ebd00c67cb3024ac5",
            "value": "100%"
          }
        },
        "517493bf5898418aaf7b056027fa519b": {
          "model_module": "@jupyter-widgets/controls",
          "model_name": "FloatProgressModel",
          "model_module_version": "1.5.0",
          "state": {
            "_dom_classes": [],
            "_model_module": "@jupyter-widgets/controls",
            "_model_module_version": "1.5.0",
            "_model_name": "FloatProgressModel",
            "_view_count": null,
            "_view_module": "@jupyter-widgets/controls",
            "_view_module_version": "1.5.0",
            "_view_name": "ProgressView",
            "bar_style": "success",
            "description": "",
            "description_tooltip": null,
            "layout": "IPY_MODEL_545f24c0ad184953a2cbc43e296d6f94",
            "max": 170498071,
            "min": 0,
            "orientation": "horizontal",
            "style": "IPY_MODEL_c7417dbfad6e456581c51684da171e1c",
            "value": 170498071
          }
        },
        "0380bab6ba734085a9eeefb4fbcc1189": {
          "model_module": "@jupyter-widgets/controls",
          "model_name": "HTMLModel",
          "model_module_version": "1.5.0",
          "state": {
            "_dom_classes": [],
            "_model_module": "@jupyter-widgets/controls",
            "_model_module_version": "1.5.0",
            "_model_name": "HTMLModel",
            "_view_count": null,
            "_view_module": "@jupyter-widgets/controls",
            "_view_module_version": "1.5.0",
            "_view_name": "HTMLView",
            "description": "",
            "description_tooltip": null,
            "layout": "IPY_MODEL_e941f6bd2db444408fee1ca3ed063f21",
            "placeholder": "​",
            "style": "IPY_MODEL_1341a6103e9c426c9f413d0c6dde4cf1",
            "value": " 170498071/170498071 [00:13&lt;00:00, 14208321.66it/s]"
          }
        },
        "7013c90433ec4e3c9c02158e4f6b1880": {
          "model_module": "@jupyter-widgets/base",
          "model_name": "LayoutModel",
          "model_module_version": "1.2.0",
          "state": {
            "_model_module": "@jupyter-widgets/base",
            "_model_module_version": "1.2.0",
            "_model_name": "LayoutModel",
            "_view_count": null,
            "_view_module": "@jupyter-widgets/base",
            "_view_module_version": "1.2.0",
            "_view_name": "LayoutView",
            "align_content": null,
            "align_items": null,
            "align_self": null,
            "border": null,
            "bottom": null,
            "display": null,
            "flex": null,
            "flex_flow": null,
            "grid_area": null,
            "grid_auto_columns": null,
            "grid_auto_flow": null,
            "grid_auto_rows": null,
            "grid_column": null,
            "grid_gap": null,
            "grid_row": null,
            "grid_template_areas": null,
            "grid_template_columns": null,
            "grid_template_rows": null,
            "height": null,
            "justify_content": null,
            "justify_items": null,
            "left": null,
            "margin": null,
            "max_height": null,
            "max_width": null,
            "min_height": null,
            "min_width": null,
            "object_fit": null,
            "object_position": null,
            "order": null,
            "overflow": null,
            "overflow_x": null,
            "overflow_y": null,
            "padding": null,
            "right": null,
            "top": null,
            "visibility": null,
            "width": null
          }
        },
        "14ec6a13de034ad3b513918e5168f005": {
          "model_module": "@jupyter-widgets/base",
          "model_name": "LayoutModel",
          "model_module_version": "1.2.0",
          "state": {
            "_model_module": "@jupyter-widgets/base",
            "_model_module_version": "1.2.0",
            "_model_name": "LayoutModel",
            "_view_count": null,
            "_view_module": "@jupyter-widgets/base",
            "_view_module_version": "1.2.0",
            "_view_name": "LayoutView",
            "align_content": null,
            "align_items": null,
            "align_self": null,
            "border": null,
            "bottom": null,
            "display": null,
            "flex": null,
            "flex_flow": null,
            "grid_area": null,
            "grid_auto_columns": null,
            "grid_auto_flow": null,
            "grid_auto_rows": null,
            "grid_column": null,
            "grid_gap": null,
            "grid_row": null,
            "grid_template_areas": null,
            "grid_template_columns": null,
            "grid_template_rows": null,
            "height": null,
            "justify_content": null,
            "justify_items": null,
            "left": null,
            "margin": null,
            "max_height": null,
            "max_width": null,
            "min_height": null,
            "min_width": null,
            "object_fit": null,
            "object_position": null,
            "order": null,
            "overflow": null,
            "overflow_x": null,
            "overflow_y": null,
            "padding": null,
            "right": null,
            "top": null,
            "visibility": null,
            "width": null
          }
        },
        "a6acdf5318b94d0ebd00c67cb3024ac5": {
          "model_module": "@jupyter-widgets/controls",
          "model_name": "DescriptionStyleModel",
          "model_module_version": "1.5.0",
          "state": {
            "_model_module": "@jupyter-widgets/controls",
            "_model_module_version": "1.5.0",
            "_model_name": "DescriptionStyleModel",
            "_view_count": null,
            "_view_module": "@jupyter-widgets/base",
            "_view_module_version": "1.2.0",
            "_view_name": "StyleView",
            "description_width": ""
          }
        },
        "545f24c0ad184953a2cbc43e296d6f94": {
          "model_module": "@jupyter-widgets/base",
          "model_name": "LayoutModel",
          "model_module_version": "1.2.0",
          "state": {
            "_model_module": "@jupyter-widgets/base",
            "_model_module_version": "1.2.0",
            "_model_name": "LayoutModel",
            "_view_count": null,
            "_view_module": "@jupyter-widgets/base",
            "_view_module_version": "1.2.0",
            "_view_name": "LayoutView",
            "align_content": null,
            "align_items": null,
            "align_self": null,
            "border": null,
            "bottom": null,
            "display": null,
            "flex": null,
            "flex_flow": null,
            "grid_area": null,
            "grid_auto_columns": null,
            "grid_auto_flow": null,
            "grid_auto_rows": null,
            "grid_column": null,
            "grid_gap": null,
            "grid_row": null,
            "grid_template_areas": null,
            "grid_template_columns": null,
            "grid_template_rows": null,
            "height": null,
            "justify_content": null,
            "justify_items": null,
            "left": null,
            "margin": null,
            "max_height": null,
            "max_width": null,
            "min_height": null,
            "min_width": null,
            "object_fit": null,
            "object_position": null,
            "order": null,
            "overflow": null,
            "overflow_x": null,
            "overflow_y": null,
            "padding": null,
            "right": null,
            "top": null,
            "visibility": null,
            "width": null
          }
        },
        "c7417dbfad6e456581c51684da171e1c": {
          "model_module": "@jupyter-widgets/controls",
          "model_name": "ProgressStyleModel",
          "model_module_version": "1.5.0",
          "state": {
            "_model_module": "@jupyter-widgets/controls",
            "_model_module_version": "1.5.0",
            "_model_name": "ProgressStyleModel",
            "_view_count": null,
            "_view_module": "@jupyter-widgets/base",
            "_view_module_version": "1.2.0",
            "_view_name": "StyleView",
            "bar_color": null,
            "description_width": ""
          }
        },
        "e941f6bd2db444408fee1ca3ed063f21": {
          "model_module": "@jupyter-widgets/base",
          "model_name": "LayoutModel",
          "model_module_version": "1.2.0",
          "state": {
            "_model_module": "@jupyter-widgets/base",
            "_model_module_version": "1.2.0",
            "_model_name": "LayoutModel",
            "_view_count": null,
            "_view_module": "@jupyter-widgets/base",
            "_view_module_version": "1.2.0",
            "_view_name": "LayoutView",
            "align_content": null,
            "align_items": null,
            "align_self": null,
            "border": null,
            "bottom": null,
            "display": null,
            "flex": null,
            "flex_flow": null,
            "grid_area": null,
            "grid_auto_columns": null,
            "grid_auto_flow": null,
            "grid_auto_rows": null,
            "grid_column": null,
            "grid_gap": null,
            "grid_row": null,
            "grid_template_areas": null,
            "grid_template_columns": null,
            "grid_template_rows": null,
            "height": null,
            "justify_content": null,
            "justify_items": null,
            "left": null,
            "margin": null,
            "max_height": null,
            "max_width": null,
            "min_height": null,
            "min_width": null,
            "object_fit": null,
            "object_position": null,
            "order": null,
            "overflow": null,
            "overflow_x": null,
            "overflow_y": null,
            "padding": null,
            "right": null,
            "top": null,
            "visibility": null,
            "width": null
          }
        },
        "1341a6103e9c426c9f413d0c6dde4cf1": {
          "model_module": "@jupyter-widgets/controls",
          "model_name": "DescriptionStyleModel",
          "model_module_version": "1.5.0",
          "state": {
            "_model_module": "@jupyter-widgets/controls",
            "_model_module_version": "1.5.0",
            "_model_name": "DescriptionStyleModel",
            "_view_count": null,
            "_view_module": "@jupyter-widgets/base",
            "_view_module_version": "1.2.0",
            "_view_name": "StyleView",
            "description_width": ""
          }
        }
      }
    }
  },
  "nbformat": 4,
  "nbformat_minor": 0
}